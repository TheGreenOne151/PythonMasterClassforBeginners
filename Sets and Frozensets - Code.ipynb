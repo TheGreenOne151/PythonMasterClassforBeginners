{
 "cells": [
  {
   "cell_type": "code",
   "execution_count": null,
   "id": "01df8de9",
   "metadata": {},
   "outputs": [],
   "source": [
    "#Sets - unordered collections of unique elements\n",
    "set1 = {\"1.1.1.1\", \"2.2.2.2\", \"3.3.3.3\", \"4.4.4.4\"} #creating a set\n",
    " \n",
    "list1 = [11, 12, 13, 14, 15, 15, 15, 11]\n",
    "string1 = \"aaabcdeeefgg\"\n",
    " \n",
    "set1 = set(list1) #creating a set from a list; removing duplicate elements; returns {11, 12, 13, 14, 15}\n",
    " \n",
    "set2 = set(string1) #creating a set from a string; removing duplicate characters; returns {'b', 'a', 'g', 'f', 'c', 'd', 'e'}; remeber that sets are UNORDERED collections of elements\n",
    " \n",
    "len(set1) #returns the number of elements in the set\n",
    " \n",
    "11 in set1 #returns True; checking if a value is an element of a set\n",
    " \n",
    "10 not in set 1 #returns True; checking if a value is an element of a set\n",
    " \n",
    "set1.add(16) #adding an element to a set\n",
    " \n",
    "set1.remove(16) #removing an element from a set\n",
    " \n",
    "#Frozensets - immutable sets. The elements of a frozenset remain the same after creation.\n",
    "fs1 = frozenset(list1) #defining a frozenset\n",
    " \n",
    "fs1\n",
    "frozenset({11, 12, 13, 14, 15}) #the result\n",
    " \n",
    "type(fs1)\n",
    "<class 'frozenset'> #the result\n",
    " \n",
    "#proving that frozensets are indeed immutable\n",
    "fs1.add(10)\n",
    "AttributeError: 'frozenset' object has no attribute 'add'\n",
    " \n",
    "fs1.remove(1)\n",
    "AttributeError: 'frozenset' object has no attribute 'remove'\n",
    " \n",
    "fs1.pop()\n",
    "AttributeError: 'frozenset' object has no attribute 'pop'\n",
    " \n",
    "fs1.clear()\n",
    "AttributeError: 'frozenset' object has no attribute 'clear'\n",
    " \n",
    "#Sets - methods\n",
    "set1.intersection(set2) #returns the common elements of the two sets\n",
    " \n",
    "set1.difference(set2) #returns the elements that set1 has and set2 doesn't\n",
    " \n",
    "set1.union(set2) #unifying two sets; the result is also a set, so there are no duplicate elements; not to be confused with concatenation\n",
    " \n",
    "set1.pop() #removes a random element from the set; set elements cannot be removed by index because sets are UNORDERED collections of elements, so there are no indexes to use\n",
    " \n",
    "set1.clear() #clearing a set; the result is an empty set"
   ]
  }
 ],
 "metadata": {
  "kernelspec": {
   "display_name": "Python 3 (ipykernel)",
   "language": "python",
   "name": "python3"
  },
  "language_info": {
   "codemirror_mode": {
    "name": "ipython",
    "version": 3
   },
   "file_extension": ".py",
   "mimetype": "text/x-python",
   "name": "python",
   "nbconvert_exporter": "python",
   "pygments_lexer": "ipython3",
   "version": "3.10.9"
  }
 },
 "nbformat": 4,
 "nbformat_minor": 5
}
