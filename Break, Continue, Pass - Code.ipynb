{
 "cells": [
  {
   "cell_type": "code",
   "execution_count": null,
   "id": "b25c9aad",
   "metadata": {},
   "outputs": [],
   "source": [
    "#Break, Continue, Pass\n",
    "list1 = [4, 5, 6]\n",
    "list2 = [10, 20, 30]\n",
    " \n",
    "for i in list1:\n",
    "    for j in list2:\n",
    "        if j == 20:\n",
    "            break #stops the execution here, ignores the print statement below and completely quits THIS \"for\" loop; however, it doesn't quit the outer \"for\" loop, too!\n",
    "        print(i * j)\n",
    "    print(\"Outside the nested loop\")\n",
    "    \n",
    "#result of the above block\n",
    "40\n",
    "Outside the nested loop\n",
    "50\n",
    "Outside the nested loop\n",
    "60\n",
    "Outside the nested loop\n",
    " \n",
    "list1 = [4, 5, 6]\n",
    "list2 = [10, 20, 30]\n",
    " \n",
    "for i in list1:\n",
    "    for j in list2:\n",
    "        if j == 20:\n",
    "            continue #ignores the rest of the code below for the current iteration, then goes up to the top of the loop (inner \"for\") and starts the next iteration\n",
    "        print(i * j)\n",
    "    print(\"Outside the nested loop\")\n",
    " \n",
    "#result of the above block\n",
    "40\n",
    "120\n",
    "Outside the nested loop\n",
    "50\n",
    "150\n",
    "Outside the nested loop\n",
    "60\n",
    "180\n",
    "Outside the nested loop\n",
    " \n",
    "for i in range(10):\n",
    "    pass #pass is the equivalent of \"do nothing\"; it is actually a placeholder for when you just want to write a piece of code that you will treat later\n"
   ]
  }
 ],
 "metadata": {
  "kernelspec": {
   "display_name": "Python 3 (ipykernel)",
   "language": "python",
   "name": "python3"
  },
  "language_info": {
   "codemirror_mode": {
    "name": "ipython",
    "version": 3
   },
   "file_extension": ".py",
   "mimetype": "text/x-python",
   "name": "python",
   "nbconvert_exporter": "python",
   "pygments_lexer": "ipython3",
   "version": "3.10.9"
  }
 },
 "nbformat": 4,
 "nbformat_minor": 5
}
