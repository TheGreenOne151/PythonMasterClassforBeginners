{
 "cells": [
  {
   "cell_type": "code",
   "execution_count": null,
   "id": "5ca90364",
   "metadata": {},
   "outputs": [],
   "source": [
    "#Tuples - immutable lists (their contents cannot be changed by adding, removing or replacing elements)\n",
    "my_tuple = () #creating an empty tuple\n",
    " \n",
    "my_tuple = (9,) #creating a tuple with a single element; DO NOT forget the comma\n",
    " \n",
    "my_tuple = (1, 2, 3, 4)\n",
    " \n",
    "#Tuples - the same indexing & slicing rules apply as for strings and lists\n",
    "len(my_tuple) #returns the number of elements in the tuple\n",
    " \n",
    "my_tuple[0] #returns the first element in the tuple (index 0)\n",
    "my_tuple[-1] #returns the last element in the tuple (index -1)\n",
    "my_tuple[0:2] #returns (1, 2)\n",
    "my_tuple[:2] #returns (1, 2)\n",
    "my_tuple[1:] #returns (2, 3, 4)\n",
    "my_tuple[:] #returns (1, 2, 3, 4)\n",
    "my_tuple[:-2] #returns (1, 2)\n",
    "my_tuple[-2:] #returns (3, 4)\n",
    "my_tuple[::-1] #returns (4, 3, 2, 1)\n",
    "my_tuple[::2] #returns (1, 3)\n",
    " \n",
    "#Tuples - tuple assignment / packing and unpacking\n",
    "tuple1 = (\"Cisco\", \"2600\", \"12.4\")\n",
    " \n",
    "(vendor, model, ios) = tuple1 #vendor will be mapped to \"Cisco\" and so are the rest of the elements with their corresponding values; both tuples should have the same number of elements\n",
    " \n",
    "(a, b, c) = (1, 2, 3) #assigning values in a tuple to variables in another tuple\n",
    " \n",
    "min(tuple1) #returns \"12.4\"\n",
    " \n",
    "max(tuple1) #returns \"Cisco\"\n",
    " \n",
    "tuple1 + (5, 6, 7) #tuple concatenation\n",
    " \n",
    "tuple1 * 20 #tuple multiplication\n",
    " \n",
    "\"2600\" in tuple1 #returns True\n",
    " \n",
    "784 not in tuple1 #returns True\n",
    " \n",
    "del tuple1 #deleting a tuple\n"
   ]
  }
 ],
 "metadata": {
  "kernelspec": {
   "display_name": "Python 3 (ipykernel)",
   "language": "python",
   "name": "python3"
  },
  "language_info": {
   "codemirror_mode": {
    "name": "ipython",
    "version": 3
   },
   "file_extension": ".py",
   "mimetype": "text/x-python",
   "name": "python",
   "nbconvert_exporter": "python",
   "pygments_lexer": "ipython3",
   "version": "3.10.9"
  }
 },
 "nbformat": 4,
 "nbformat_minor": 5
}
