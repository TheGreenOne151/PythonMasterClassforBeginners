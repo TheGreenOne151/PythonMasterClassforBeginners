{
 "cells": [
  {
   "cell_type": "code",
   "execution_count": null,
   "id": "8bb4f921",
   "metadata": {},
   "outputs": [],
   "source": [
    "#For / For Else loops - executes a block of code a number of times, depending on the sequence it iterates on; the \"else\" clause is optional\n",
    "vendors = [\"Cisco\", \"HP\", \"Nortel\", \"Avaya\", \"Juniper\"]\n",
    " \n",
    "for element in vendors: #interating over a sequence and executing the code indented under the \"for\" clause for each element in the sequence\n",
    "    print(element)\n",
    "else: #the indented code below \"else\" will be executed when \"for\" has finished looping over the entire list\n",
    "    print(\"The end of the list has been reached\")\n",
    "    \n",
    "#result of the above \"for\" block\n",
    "Cisco\n",
    "HP\n",
    "Nortel\n",
    "Avaya\n",
    "Juniper\n",
    "The end of the list has been reached"
   ]
  }
 ],
 "metadata": {
  "kernelspec": {
   "display_name": "Python 3 (ipykernel)",
   "language": "python",
   "name": "python3"
  },
  "language_info": {
   "codemirror_mode": {
    "name": "ipython",
    "version": 3
   },
   "file_extension": ".py",
   "mimetype": "text/x-python",
   "name": "python",
   "nbconvert_exporter": "python",
   "pygments_lexer": "ipython3",
   "version": "3.10.9"
  }
 },
 "nbformat": 4,
 "nbformat_minor": 5
}
