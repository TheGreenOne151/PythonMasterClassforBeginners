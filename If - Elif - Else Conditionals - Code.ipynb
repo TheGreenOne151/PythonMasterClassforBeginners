{
 "cells": [
  {
   "cell_type": "code",
   "execution_count": null,
   "id": "471bdf55",
   "metadata": {},
   "outputs": [],
   "source": [
    "#If / Elif / Else conditionals - executing code based on one or more conditions being evaluated as True or False; the \"elif\" and \"else\" clauses are optional\n",
    "x = 5\n",
    " \n",
    "if x > 5: #if the \"x > 5\" expression is evaluated as True, the code indented under the \"if\" clause gets executed, otherwise the execution jumps to the \"elif\" clause...\n",
    "    print(\"x is greater than 5\")\n",
    "elif x == 5: #...if the \"x == 5\" expression is evaluated as True, the code indented under the \"elif\" clause gets executed, otherwise the execution jumps to the \"else\" clause\n",
    "    print(\"x IS 5\")\n",
    "else: #this covers all situations not covered by the \"if\" and \"elif\" clauses; the \"else\" clause, if present, is always the last clause in the code block\n",
    "    print(\"x is NOT greater than 5\" )\n",
    " \n",
    "#result of the above \"if\" block\n",
    "x IS 5"
   ]
  }
 ],
 "metadata": {
  "kernelspec": {
   "display_name": "Python 3 (ipykernel)",
   "language": "python",
   "name": "python3"
  },
  "language_info": {
   "codemirror_mode": {
    "name": "ipython",
    "version": 3
   },
   "file_extension": ".py",
   "mimetype": "text/x-python",
   "name": "python",
   "nbconvert_exporter": "python",
   "pygments_lexer": "ipython3",
   "version": "3.10.9"
  }
 },
 "nbformat": 4,
 "nbformat_minor": 5
}
