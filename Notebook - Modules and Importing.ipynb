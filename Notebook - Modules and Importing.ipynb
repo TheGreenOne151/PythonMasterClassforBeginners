{
 "cells": [
  {
   "cell_type": "code",
   "execution_count": null,
   "id": "4b6e18ca",
   "metadata": {},
   "outputs": [],
   "source": [
    "#Modules and importing - Basics\n",
    " \n",
    "#Importing the sys module; the import statements should be placed before any other code in your application\n",
    "import sys \n",
    " \n",
    "#Importing only a variable (pi) from the math module\n",
    "from math import pi \n",
    " \n",
    "#Importing only a function (sin()) from the math module; there's no need to add the parentheses of the function when importing it\n",
    "from math import sin \n",
    " \n",
    "#Importing all the names (variables and functions) from the math module\n",
    "from math import * \n"
   ]
  }
 ],
 "metadata": {
  "kernelspec": {
   "display_name": "Python 3 (ipykernel)",
   "language": "python",
   "name": "python3"
  },
  "language_info": {
   "codemirror_mode": {
    "name": "ipython",
    "version": 3
   },
   "file_extension": ".py",
   "mimetype": "text/x-python",
   "name": "python",
   "nbconvert_exporter": "python",
   "pygments_lexer": "ipython3",
   "version": "3.10.9"
  }
 },
 "nbformat": 4,
 "nbformat_minor": 5
}
