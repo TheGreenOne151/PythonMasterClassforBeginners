{
 "cells": [
  {
   "cell_type": "code",
   "execution_count": null,
   "id": "027fceef",
   "metadata": {},
   "outputs": [],
   "source": [
    "#Try / Except / Else / Finally - handling an exception when it occurs and telling Python to keep executing the rest of the lines of code in the program\n",
    "try:\n",
    "    print(4/0) #in the \"try\" clause you insert the code that you think might generate an exception at some point\n",
    "except ZeroDivisionError:\n",
    "    print(\"Division Error!\") #specifying what exception types Python should expect as a consequence of running the code inside the \"try\" block and how to handle them\n",
    "else:\n",
    "    print(\"No exceptions raised by the try block!\") #executed if the code inside the \"try\" block raises NO exceptions\n",
    "finally:\n",
    "    print(\"I don't care if an exception was raised or not!\") #executed whether the code inside the \"try\" block raises an exception or not\n",
    " \n",
    "#result of the above block\n",
    "Division Error!\n",
    "I don't care if an exception was raised or not!\n"
   ]
  }
 ],
 "metadata": {
  "kernelspec": {
   "display_name": "Python 3 (ipykernel)",
   "language": "python",
   "name": "python3"
  },
  "language_info": {
   "codemirror_mode": {
    "name": "ipython",
    "version": 3
   },
   "file_extension": ".py",
   "mimetype": "text/x-python",
   "name": "python",
   "nbconvert_exporter": "python",
   "pygments_lexer": "ipython3",
   "version": "3.10.9"
  }
 },
 "nbformat": 4,
 "nbformat_minor": 5
}
