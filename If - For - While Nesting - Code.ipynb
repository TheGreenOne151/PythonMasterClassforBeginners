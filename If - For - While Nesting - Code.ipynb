{
 "cells": [
  {
   "cell_type": "code",
   "execution_count": null,
   "id": "d8585a0f",
   "metadata": {},
   "outputs": [],
   "source": [
    "#If / For / While Nesting\n",
    "x = \"Cisco\"\n",
    " \n",
    "if \"i\" in x: \n",
    "    if len(x) > 3: #if nesting\n",
    "        print(x, len(x))\n",
    " \n",
    "Cisco 5 #result of the above block\n",
    " \n",
    "list1 = [4, 5, 6]\n",
    "list2 = [10, 20, 30]\n",
    "for i in list1:\n",
    "    for j in list2: #for nesting\n",
    "        print(i*j)\n",
    " \n",
    "40 80 120 50 100 150 60 120 180 #result of the above block\n",
    " \n",
    "x = 1\n",
    "while x <= 10:\n",
    "    z = 5\n",
    "    x += 1\n",
    "    while z <= 10:  #while nesting\n",
    "        print(z)\n",
    "        z += 1\n",
    "        \n",
    "5 6 7 8 9 10 5 6 7 8 9 10 5 6 7 8 9 10 5 6 7 8 9 10 5 6 7 8 9 10 5 6 7 8 9 10 5 6 7 8 9 10 5 6 7 8 9 10 5 6 7 8 9 10 5 6 7 8 9 10\t#result of the above block\n",
    " \n",
    "for number in range(10):\n",
    "    if 5 <= number <= 9: #mixed nesting\n",
    "        print(number)\n",
    " \n",
    "5 6 7 8 9 #result of the above block\n"
   ]
  }
 ],
 "metadata": {
  "kernelspec": {
   "display_name": "Python 3 (ipykernel)",
   "language": "python",
   "name": "python3"
  },
  "language_info": {
   "codemirror_mode": {
    "name": "ipython",
    "version": 3
   },
   "file_extension": ".py",
   "mimetype": "text/x-python",
   "name": "python",
   "nbconvert_exporter": "python",
   "pygments_lexer": "ipython3",
   "version": "3.10.9"
  }
 },
 "nbformat": 4,
 "nbformat_minor": 5
}
