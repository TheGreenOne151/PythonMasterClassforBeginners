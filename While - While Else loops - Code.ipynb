{
 "cells": [
  {
   "cell_type": "code",
   "execution_count": null,
   "id": "47a738a2",
   "metadata": {},
   "outputs": [],
   "source": [
    "#While / While Else loops - a while loop executes as long as an user-specified condition is evaluated as True; the \"else\" clause is optional\n",
    "x = 1\n",
    " \n",
    "while x <= 10:\n",
    "    print(x)\n",
    "    x += 1\n",
    "else:\n",
    "    print(\"Out of the while loop. x is now greater than 10\")\n",
    " \n",
    "#result of the above \"while\" block\n",
    "1 2 3 4 5 6 7 8 9 10\n",
    "Out of the while loop. x is now greater than 10"
   ]
  }
 ],
 "metadata": {
  "kernelspec": {
   "display_name": "Python 3 (ipykernel)",
   "language": "python",
   "name": "python3"
  },
  "language_info": {
   "codemirror_mode": {
    "name": "ipython",
    "version": 3
   },
   "file_extension": ".py",
   "mimetype": "text/x-python",
   "name": "python",
   "nbconvert_exporter": "python",
   "pygments_lexer": "ipython3",
   "version": "3.10.9"
  }
 },
 "nbformat": 4,
 "nbformat_minor": 5
}
