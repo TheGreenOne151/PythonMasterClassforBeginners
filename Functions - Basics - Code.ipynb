{
 "cells": [
  {
   "cell_type": "code",
   "execution_count": null,
   "id": "f307c63b",
   "metadata": {},
   "outputs": [],
   "source": [
    "#Functions - Basics\n",
    "def my_first_function(x, y): #defining a function that takes two parameters\n",
    "    sum = x + y\n",
    "    return sum #this statement is used to exit a function and return something when the function is called\n",
    "    \n",
    "my_first_function(1, 2) #calling a function and passing two POSITIONAL arguments, the values of 1 and 2; result is 3\n",
    " \n",
    "my_first_function(x = 1, y = 2) #calling a function and passing two KEYWORD arguments, the values of 1 and 2; result is 3\n",
    " \n",
    "my_first_function(1, y = 2) #calling a function and passing mixed types of arguments, the values of 1 and 2; result is 3; rule: positional arguments always before keyword arguments!\n",
    " \n",
    "def my_first_function(x, y, z = 3): #specifying a default parameter value in a function definition\n",
    " \n",
    "def my_first_function(x, *args) #specifying a variable number of positional parameters in a function definition; args is a tuple\n",
    " \n",
    "def my_first_function(x, **kwargs) #specifying a variable number of keyword parameters in a function definition; kwargs is a dictionary\n",
    " \n",
    "global my_var #\"importing\" a variable in the global namespace to the local namespace of a function\n"
   ]
  }
 ],
 "metadata": {
  "kernelspec": {
   "display_name": "Python 3 (ipykernel)",
   "language": "python",
   "name": "python3"
  },
  "language_info": {
   "codemirror_mode": {
    "name": "ipython",
    "version": 3
   },
   "file_extension": ".py",
   "mimetype": "text/x-python",
   "name": "python",
   "nbconvert_exporter": "python",
   "pygments_lexer": "ipython3",
   "version": "3.10.9"
  }
 },
 "nbformat": 4,
 "nbformat_minor": 5
}
