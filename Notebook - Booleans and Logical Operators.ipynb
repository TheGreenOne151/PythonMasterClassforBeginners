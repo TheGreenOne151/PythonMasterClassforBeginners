{
 "cells": [
  {
   "cell_type": "code",
   "execution_count": 1,
   "id": "c619a179",
   "metadata": {},
   "outputs": [
    {
     "ename": "SyntaxError",
     "evalue": "invalid decimal literal (2604078510.py, line 10)",
     "output_type": "error",
     "traceback": [
      "\u001b[1;36m  Cell \u001b[1;32mIn[1], line 10\u001b[1;36m\u001b[0m\n\u001b[1;33m    None, 0, 0.0, 0L, 0j, empty string, empty list, empty tuple, empty dictionary #these values always evaluate to False\u001b[0m\n\u001b[1;37m                  ^\u001b[0m\n\u001b[1;31mSyntaxError\u001b[0m\u001b[1;31m:\u001b[0m invalid decimal literal\n"
     ]
    }
   ],
   "source": [
    "#Booleans - logical operations\n",
    "(1 == 1) and (2 == 2) #result is True; AND means that both operands should be True in order to get the expression evaluated as True\n",
    " \n",
    "(1 == 1) or (2 == 2) #result is True; when using OR, it is enough if only one expression is True, in order to have True as the final result\n",
    " \n",
    "not(1 == 1) #result is False; using the NOT operator means denying an expression, in this case denying a True expression\n",
    " \n",
    "not(1 == 2) #result is True; using the NOT operator means denying an expression, in this case denying a False expression\n",
    " \n",
    "None, 0, 0.0, 0L, 0j, empty string, empty list, empty tuple, empty dictionary #these values always evaluate to False\n",
    " \n",
    "bool(None) #returns False; function that evaluates values and expressions\n",
    " \n",
    "bool(0) #returns False; function that evaluates values and expressions\n",
    " \n",
    "bool(2) #returns True; function that evaluates values and expressions\n",
    " \n",
    "bool(\"router\") #returns True; function that evaluates values and expressions\n"
   ]
  },
  {
   "cell_type": "code",
   "execution_count": null,
   "id": "9eb94f17",
   "metadata": {},
   "outputs": [],
   "source": []
  }
 ],
 "metadata": {
  "kernelspec": {
   "display_name": "Python 3 (ipykernel)",
   "language": "python",
   "name": "python3"
  },
  "language_info": {
   "codemirror_mode": {
    "name": "ipython",
    "version": 3
   },
   "file_extension": ".py",
   "mimetype": "text/x-python",
   "name": "python",
   "nbconvert_exporter": "python",
   "pygments_lexer": "ipython3",
   "version": "3.10.9"
  }
 },
 "nbformat": 4,
 "nbformat_minor": 5
}
