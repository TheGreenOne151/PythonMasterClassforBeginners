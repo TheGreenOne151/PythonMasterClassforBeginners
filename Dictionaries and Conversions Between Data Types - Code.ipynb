{
 "cells": [
  {
   "cell_type": "code",
   "execution_count": null,
   "id": "311e3df9",
   "metadata": {},
   "outputs": [],
   "source": [
    "#Dictionaries - a dictionary is an unordered set of key-value pairs\n",
    "dict1 = {} #creating an empty dictionary\n",
    " \n",
    "dict1 = {\"Vendor\": \"Cisco\", \"Model\": \"2600\", \"IOS\": \"12.4\", \"Ports\": \"4\"}\n",
    " \n",
    "dict1[\"IOS\"] #returns \"12.4\"; extracting a value for a specified key\n",
    " \n",
    "dict1[\"IOS\"] = \"12.3\" #modifies an existing key-value pair\n",
    " \n",
    "dict1[\"RAM\"] = \"128\" #adds a new key-value pair to the dictionary\n",
    " \n",
    "del dict1[\"Ports\"] #deleting a key-value pair from the dictionary\n",
    " \n",
    "len(dict1) #returns the number of key-value pairs in the dictionary\n",
    " \n",
    "\"IOS\" in dict1 #verifies if \"IOS\" is a key in the dictionary\n",
    " \n",
    "\"IOS2\" not in dict1 #verifies if \"IOS2\" is not a key in the dictionary\n",
    " \n",
    "#Dictionaries - methods\n",
    "dict1.keys() #returns a list having the keys in the dictionary as elements\n",
    " \n",
    "dict1.values() #returns a list having the values in the dictionary as elements\n",
    " \n",
    "dict1.items() #returns a list of tuples, each tuple containing the key and value of each dictionary pair\n",
    " \n",
    "#Conversions between data types\n",
    "str() #converting to a string\n",
    "int() #converting to an integer\n",
    "float() #converting to a float\n",
    "list() #converting to a list\n",
    "tuple() #converting to a tuple\n",
    "set() #converting to a set\n",
    "bin() #converting to a binary representation\n",
    "hex() #converting to a hexadecimal representation\n",
    "int(variable, 2) #converting from binary back to decimal\n",
    "int(variable, 16) #converting from hexadecimal back to decimal\n"
   ]
  }
 ],
 "metadata": {
  "kernelspec": {
   "display_name": "Python 3 (ipykernel)",
   "language": "python",
   "name": "python3"
  },
  "language_info": {
   "codemirror_mode": {
    "name": "ipython",
    "version": 3
   },
   "file_extension": ".py",
   "mimetype": "text/x-python",
   "name": "python",
   "nbconvert_exporter": "python",
   "pygments_lexer": "ipython3",
   "version": "3.10.9"
  }
 },
 "nbformat": 4,
 "nbformat_minor": 5
}
