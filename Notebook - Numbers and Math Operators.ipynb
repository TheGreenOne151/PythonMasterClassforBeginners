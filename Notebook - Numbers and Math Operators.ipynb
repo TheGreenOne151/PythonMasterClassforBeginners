{
 "cells": [
  {
   "cell_type": "code",
   "execution_count": null,
   "id": "707b88c6",
   "metadata": {},
   "outputs": [],
   "source": [
    "#Numbers\n",
    "num1 = 10\n",
    "num2 = 2.5\n",
    " \n",
    "type(num1) #checking the type of this variable; integer\n",
    "type(num2) #checking the type of this variable; float\n",
    " \n",
    "#Numbers - math operations\n",
    "1 + 2 #addition\n",
    " \n",
    "2 – 1 #subtraction\n",
    " \n",
    "4 / 2 #division\n",
    " \n",
    "4 * 2 #multiplication\n",
    " \n",
    "4 ** 2 #raising to a power\n",
    " \n",
    "5 % 2 #modulo (this means finding out the remainder after division of one number by another)\n",
    " \n",
    "#Numbers - float division vs. integer division (special case)\n",
    "3 / 2 #float division; result is 1 in Python 2 and 1.5 in Python 3\n",
    " \n",
    "3 // 2 #integer division; result is 1 in Python 2 and Python 3\n",
    " \n",
    "#Numbers - order of evaluation in math operations\n",
    "#Highest priority: raising to a power; Medium priority: division, multiplication and modulo; Low priority: addition and subtraction\n",
    "100 - 5 ** 2 / 5 * 2 #1st: 5 ** 2, second: / then *, third - ; result is 90.0\n",
    " \n",
    "#Numbers - conversion between numeric types\n",
    "int(1.5) #result is 1\n",
    " \n",
    "float(2) #result is 2.0\n",
    " \n",
    "#Numbers - useful functions\n",
    "abs(5) #the distance between the number in between parantheses and 0\n",
    " \n",
    "abs(-5) #returns the same result as abs(5)\n",
    " \n",
    "max(1, 2) #returns the largest number\n",
    " \n",
    "min(1, 2) #returns the smallest number\n",
    " \n",
    "pow(3, 2) #another way of raising to a power"
   ]
  }
 ],
 "metadata": {
  "kernelspec": {
   "display_name": "Python 3 (ipykernel)",
   "language": "python",
   "name": "python3"
  },
  "language_info": {
   "codemirror_mode": {
    "name": "ipython",
    "version": 3
   },
   "file_extension": ".py",
   "mimetype": "text/x-python",
   "name": "python",
   "nbconvert_exporter": "python",
   "pygments_lexer": "ipython3",
   "version": "3.10.9"
  }
 },
 "nbformat": 4,
 "nbformat_minor": 5
}
