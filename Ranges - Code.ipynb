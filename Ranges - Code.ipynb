{
 "cells": [
  {
   "cell_type": "code",
   "execution_count": null,
   "id": "363f93a5",
   "metadata": {},
   "outputs": [],
   "source": [
    "#Ranges - unlike in Python 2, where the range() function returned a list, in Python 3 it returns an iterator; cannot be sliced\n",
    "r = range(10)   #defining a range\n",
    " \n",
    "r\n",
    "range(0, 10) #the result\n",
    " \n",
    "type(r)\n",
    "<class 'range'> #the result\n",
    " \n",
    "list(r) #converting a range to a list\n",
    "[0, 1, 2, 3, 4, 5, 6, 7, 8, 9]  #the result\n",
    " \n",
    "list(r)[2:5]    #slicing a range by using the list() function first\n",
    "[2, 3, 4]   #the result"
   ]
  }
 ],
 "metadata": {
  "kernelspec": {
   "display_name": "Python 3 (ipykernel)",
   "language": "python",
   "name": "python3"
  },
  "language_info": {
   "codemirror_mode": {
    "name": "ipython",
    "version": 3
   },
   "file_extension": ".py",
   "mimetype": "text/x-python",
   "name": "python",
   "nbconvert_exporter": "python",
   "pygments_lexer": "ipython3",
   "version": "3.10.9"
  }
 },
 "nbformat": 4,
 "nbformat_minor": 5
}
